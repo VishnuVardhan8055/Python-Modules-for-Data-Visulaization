{
 "cells": [
  {
   "cell_type": "code",
   "execution_count": null,
   "id": "fedd7e91-fdb8-4177-9487-5b7d297d4f2e",
   "metadata": {},
   "outputs": [],
   "source": [
    "               '''      \"\"\"            Python Libarires for Machine Learning      \"\"\"      '''"
   ]
  },
  {
   "cell_type": "markdown",
   "id": "801cf053-1246-4b77-9b19-f492c6123e3d",
   "metadata": {},
   "source": [
    "# Numpy Module ---> * It is a module for Numerical Python and is the Core Library for numeric scientific computing .\n",
    "                    * It Consists Multi Dimensional Array objects and a Collection of routines for processing those arrays."
   ]
  },
  {
   "cell_type": "code",
   "execution_count": 1,
   "id": "7e387207-7021-453d-8f2b-cc4df2f59555",
   "metadata": {},
   "outputs": [
    {
     "data": {
      "text/plain": [
       "array([10, 20, 30, 40, 50])"
      ]
     },
     "execution_count": 1,
     "metadata": {},
     "output_type": "execute_result"
    }
   ],
   "source": [
    "# 1.\n",
    "\n",
    "import numpy as np\n",
    "\n",
    "Single_dimensional_Array = np.array([10,20,30,40,50])\n",
    "Single_dimensional_Array\n"
   ]
  },
  {
   "cell_type": "code",
   "execution_count": 4,
   "id": "6df33e82-778c-476c-8e62-a45d2a2b7e2c",
   "metadata": {},
   "outputs": [
    {
     "data": {
      "text/plain": [
       "numpy.ndarray"
      ]
     },
     "execution_count": 4,
     "metadata": {},
     "output_type": "execute_result"
    }
   ],
   "source": [
    "# To Check the Array Type.\n",
    "\n",
    "type(Single_dimensional_Array)"
   ]
  },
  {
   "cell_type": "code",
   "execution_count": 3,
   "id": "0fdfd1ab-919f-4c8e-a7b9-899ed8bf2f46",
   "metadata": {},
   "outputs": [
    {
     "data": {
      "text/plain": [
       "array([[10, 20, 30, 50],\n",
       "       [11, 22, 33, 44]])"
      ]
     },
     "execution_count": 3,
     "metadata": {},
     "output_type": "execute_result"
    }
   ],
   "source": [
    "# 2.\n",
    "\n",
    "import numpy as np\n",
    "\n",
    "Multi_dimensional_Array = np.array([[10,20,30,50], [11,22,33,44]])\n",
    "Multi_dimensional_Array\n"
   ]
  },
  {
   "cell_type": "code",
   "execution_count": null,
   "id": "7150f051-6ed9-4781-bba7-2a399eb1a256",
   "metadata": {},
   "outputs": [],
   "source": [
    "\n",
    "                                  \"\"\"    Initializing Numpy Array With Zeros    \"\"\""
   ]
  },
  {
   "cell_type": "code",
   "execution_count": 11,
   "id": "31b63d11-5999-4945-994a-33fce1568217",
   "metadata": {},
   "outputs": [
    {
     "data": {
      "text/plain": [
       "(array([[0., 0.]]),\n",
       " array([[0., 0., 0., 0., 0.],\n",
       "        [0., 0., 0., 0., 0.],\n",
       "        [0., 0., 0., 0., 0.],\n",
       "        [0., 0., 0., 0., 0.],\n",
       "        [0., 0., 0., 0., 0.]]))"
      ]
     },
     "execution_count": 11,
     "metadata": {},
     "output_type": "execute_result"
    }
   ],
   "source": [
    "# 1. \"\"\" Zeros with rows and columns \"\"\"\n",
    "\n",
    "import numpy as np \n",
    "n1 = np.zeros((1,2))\n",
    "\n",
    "# For Multi Dimentional Array.\n",
    "n2 = np.zeros((5,5))\n",
    "\n",
    "n1 , n2"
   ]
  },
  {
   "cell_type": "code",
   "execution_count": 40,
   "id": "8e28851a-c49d-4c7e-aa59-bc94a50f7759",
   "metadata": {},
   "outputs": [
    {
     "data": {
      "text/plain": [
       "(array([[0.39444357, 0.59641913, 0.31682005, 0.73448851, 0.82534612],\n",
       "        [0.8692026 , 0.19830736, 0.66429017, 0.65385351, 0.43308317],\n",
       "        [0.73378592, 0.4699844 , 0.85426012, 0.01532981, 0.06746639],\n",
       "        [0.05180809, 0.66266632, 0.53004146, 0.75957364, 0.89680681]]),\n",
       " array([11, 66, 15, 30, 84, 89, 13, 24, 83, 55, 67, 40, 88, 48, 19]))"
      ]
     },
     "execution_count": 40,
     "metadata": {},
     "output_type": "execute_result"
    }
   ],
   "source": [
    "# 2. \"\"\" Creating the Multi Dimentional Array by Random .  \"\"\"\n",
    "\"\"\" @--> Here random.rand is Key Function for random inputs to Array \"\"\"\n",
    "\n",
    "import numpy as np\n",
    "n1 = np.random.rand(4,5)\n",
    "n1\n",
    "\n",
    "\"\"\" @--> random.randint is used for creating the array from the n to m range by skiping a values by smae distance \"\"\"\n",
    "import numpy as np\n",
    "n2 = np.random.randint(10,100,15)\n",
    "\n",
    "n1 , n2"
   ]
  },
  {
   "cell_type": "code",
   "execution_count": 31,
   "id": "35d12b70-56a5-4196-9da3-7b52b34fab40",
   "metadata": {},
   "outputs": [
    {
     "data": {
      "text/plain": [
       "(array([10, 11, 12, 13, 14, 15, 16, 17]),\n",
       " array([20, 25, 30, 35, 40, 45, 50, 55, 60, 65, 70, 75]))"
      ]
     },
     "execution_count": 31,
     "metadata": {},
     "output_type": "execute_result"
    }
   ],
   "source": [
    "# 2.1   \"\"\" Intalizing the Numpy Array with a Range \"\"\"\n",
    "\n",
    "import numpy as np\n",
    "\n",
    "n3 = np.arange(10,18)\n",
    "\n",
    "\n",
    "\"\"\" In this one while  creating we can step the number particular distance \"\"\"\n",
    "\n",
    "n4 = np.arange(20,80,5)\n",
    "n3  , n4"
   ]
  },
  {
   "cell_type": "code",
   "execution_count": 34,
   "id": "56832a1b-8b8f-45b8-8e51-415c32f75ff9",
   "metadata": {},
   "outputs": [
    {
     "data": {
      "text/plain": [
       "array([[5, 5, 5, 5],\n",
       "       [5, 5, 5, 5],\n",
       "       [5, 5, 5, 5]])"
      ]
     },
     "execution_count": 34,
     "metadata": {},
     "output_type": "execute_result"
    }
   ],
   "source": [
    "# 2.2 \"\"\" filling the Same  number  by n X m Array . \"\"\"\n",
    "\n",
    "import numpy as np\n",
    "\n",
    "n5 = np.full((3,4),5)\n",
    "n5"
   ]
  },
  {
   "cell_type": "code",
   "execution_count": null,
   "id": "c23912cc-61de-4758-b6c8-9fc1859e8918",
   "metadata": {},
   "outputs": [],
   "source": [
    "# 3. \"\"\" To take a n by m array input by user input using NumPy \"\"\"\n",
    "\n",
    "import numpy as np\n",
    "\n",
    "# Get the number of rows and columns from the user.\n",
    "n = int(input(\"Enter the number of rows: \"))\n",
    "m = int(input(\"Enter the number of columns: \"))\n",
    "\n",
    "# Create an empty array.\n",
    "array = np.empty((n, m))\n",
    "\n",
    "# Get the array elements from the user.\n",
    "for i in range(n):\n",
    "    for j in range(m):\n",
    "        array[i, j] = int(input(\"Enter the element at row {} column {}: \".format(i, j)))\n",
    "\n",
    "# Print the array.\n",
    "print(array)\n"
   ]
  },
  {
   "cell_type": "code",
   "execution_count": 50,
   "id": "db1ac285-642d-49b0-8ecb-791622e24c85",
   "metadata": {},
   "outputs": [
    {
     "data": {
      "text/plain": [
       "(3, 2)"
      ]
     },
     "execution_count": 50,
     "metadata": {},
     "output_type": "execute_result"
    }
   ],
   "source": [
    "# 4. \"\"\" Checking the Numpy Array \"\"\"\n",
    "\"\"\" @--> Here to check the numpy array Dimensions / Shape \"\"\"\n",
    "import numpy as np\n",
    "n6 = n1.shape # Here Iam taking the direct above n1 array.\n",
    "n6\n",
    "\n",
    "# 4.1 reshape the Array \n",
    "\"\"\" @--> While reshaping a Matrix it's only possible when m != n \"\"\"\n",
    "n7=np.array([[1,2,3],[4,5,6]])\n",
    "n7.shape\n",
    "n7.shape = (3,2) \n",
    "n7.shape"
   ]
  },
  {
   "cell_type": "code",
   "execution_count": 57,
   "id": "13e9b5f4-2d4b-49d1-855f-e97103ba7315",
   "metadata": {},
   "outputs": [
    {
     "data": {
      "text/plain": [
       "array([[1, 4],\n",
       "       [2, 5],\n",
       "       [3, 6]])"
      ]
     },
     "execution_count": 57,
     "metadata": {},
     "output_type": "execute_result"
    }
   ],
   "source": [
    "# 5. \"\"\" Joining a Array's \"\"\"\n",
    "\n",
    "# 5.1  \"\"\" vstack() which is vertical | join the arrays  \"\"\"\n",
    "\"\"\" @--> here we joining the arrays Vertically \"\"\"\n",
    "import numpy as np \n",
    "n8 = np.array([1,2,3])\n",
    "n9 = np.array([4,5,6])\n",
    "\n",
    "np.vstack((n8,n9))\n",
    "\n",
    "# 5.2  \"\"\" hstack() which is  horizontal --  joining the arrays \"\"\"\n",
    "\n",
    "\"\"\" @--> here we joing the arrays horizontally \"\"\"\n",
    "np.hstack((n8,n9))\n",
    "\n",
    "# 5.3  \"\"\" column_stack () \"\"\"\n",
    "\"\"\" @--> here we joing the arrays two arrays , \n",
    "In this the function will be like alla the columns are add and form as a row \"\"\"\n",
    "\n",
    "import numpy as np\n",
    "np.column_stack((n8,n9))\n"
   ]
  },
  {
   "cell_type": "markdown",
   "id": "0c862b67-1be2-470d-8304-0de2a7930370",
   "metadata": {},
   "source": [
    "# Numpy array Intersection & Difference "
   ]
  },
  {
   "cell_type": "code",
   "execution_count": 4,
   "id": "2094c203-cbfa-4363-a4d5-ad5cf8c0c72b",
   "metadata": {},
   "outputs": [
    {
     "data": {
      "text/plain": [
       "array([20, 30, 40])"
      ]
     },
     "execution_count": 4,
     "metadata": {},
     "output_type": "execute_result"
    }
   ],
   "source": [
    "# 6 . \"\"\" Intersection \"\"\"\n",
    "\"\"\" @--> Here we are using intersect1d , it is keyword for intersection b/w arrays .\n",
    "its give output as elements same in all the given arrays .\"\"\"\n",
    "\n",
    "import numpy as np\n",
    "\n",
    "n1 = np.array([10,20,30,40])\n",
    "n2 = np.array([20,40,30,50])\n",
    "np.intersect1d(n1,n2) \"\"\" @--> Here 1d is a one dimensional its represent the output in one dimensional array \"\"\"\n",
    "\n"
   ]
  },
  {
   "cell_type": "code",
   "execution_count": 14,
   "id": "4d843420-5fc6-4322-a46a-efd555698540",
   "metadata": {},
   "outputs": [
    {
     "data": {
      "text/plain": [
       "array([21, 65, 87])"
      ]
     },
     "execution_count": 14,
     "metadata": {},
     "output_type": "execute_result"
    }
   ],
   "source": [
    "# 7 . \"\"\"  Difference  \"\"\"\n",
    "\n",
    "\"\"\" @--> Here we are getting the output which is not same elements consists in a  given arrays ..\n",
    "Here we use keyword is setdiff1d . \"\"\"\n",
    "\n",
    "import numpy as np\n",
    "\n",
    "n3 = np.array([12,34,56,78])\n",
    "n4 = np.array([34,21,65,87])\n",
    "np.setdiff1d(n3,n4)\n",
    "\"\"\"@--> ( Here n3 is comparing with n4 and removing the same elements in arrays then given output as remaining n3 consists elements \"\"\"\n",
    "\n",
    "np.setdiff1d(n4,n3)\n",
    "\"\"\"@--> here also same process as a above Funtionality but here n4 is comparing with n3 and avoiding the same elements consists in two arrays , given output as remaing the n4 elements \"\"\"\n"
   ]
  },
  {
   "cell_type": "markdown",
   "id": "67b95f6d-2e69-4482-9915-2dc5d4fbf3e9",
   "metadata": {},
   "source": [
    "                               \"\"\"       Numpy Array MatheMatics       \"\"\""
   ]
  },
  {
   "cell_type": "markdown",
   "id": "28a65fa3-b731-4479-9bdf-651456d0c5d0",
   "metadata": {},
   "source": [
    "# Numpy Array Sum "
   ]
  },
  {
   "cell_type": "code",
   "execution_count": 26,
   "id": "9812bad5-c224-4621-9e2a-6cd02e7aa0c9",
   "metadata": {},
   "outputs": [
    {
     "data": {
      "text/plain": [
       "array([41, 56])"
      ]
     },
     "execution_count": 26,
     "metadata": {},
     "output_type": "execute_result"
    }
   ],
   "source": [
    "# 8 . Addition Of Numpy Arrays \n",
    "\n",
    "import numpy as np\n",
    "\n",
    "n5 = np.array([11,20,10])\n",
    "n6 = np.array([24,12,20])\n",
    "\n",
    "np.sum([n5,n6])\n",
    "\"\"\" this directly give the total sum of the array elements \"\"\"\n",
    "''' For a proper Array sum we must give the axis '''\n",
    "# # 8.1 \n",
    "\"\"\" if axis = 0  , Here its add the columns elements of the array \"\"\"\n",
    "np.sum([n5,n6],axis=0)\n",
    "\n",
    "\"\"\" if axis = 1  , here its add the  elemnts in a row  \"\"\"\n",
    "np.sum([n5,n6],axis=1)"
   ]
  },
  {
   "cell_type": "markdown",
   "id": "38a474bb-c686-4f75-ac63-7e3f2f6975ea",
   "metadata": {},
   "source": [
    "# Basic Numpy Array MatheMatical Opertions "
   ]
  },
  {
   "cell_type": "code",
   "execution_count": 27,
   "id": "a8694f92-1df8-461f-9a9a-49f6e7ccc316",
   "metadata": {},
   "outputs": [
    {
     "data": {
      "text/plain": [
       "array([11, 21, 31])"
      ]
     },
     "execution_count": 27,
     "metadata": {},
     "output_type": "execute_result"
    }
   ],
   "source": [
    "# Basic Addition \n",
    "import numpy as np\n",
    "n7 = np.array([10,20,30])\n",
    "n7 = n7+1 \"\"\" by adding 1 from the all elements in a array \"\"\"\n",
    "n7"
   ]
  },
  {
   "cell_type": "code",
   "execution_count": 28,
   "id": "8c4b807d-a235-4fcc-9d06-bad7a69cfc9a",
   "metadata": {},
   "outputs": [
    {
     "data": {
      "text/plain": [
       "array([ 9, 19, 29])"
      ]
     },
     "execution_count": 28,
     "metadata": {},
     "output_type": "execute_result"
    }
   ],
   "source": [
    "# Basic Subtraction\n",
    "import numpy as np\n",
    "n8 = np.array([10,20,30])\n",
    "n8 = n8-1 \"\"\" Here by Subtracting 2 from the all elements in a array \"\"\"\n",
    "n8"
   ]
  },
  {
   "cell_type": "code",
   "execution_count": 29,
   "id": "2397a180-48cd-4b16-b85f-acfd34a56d16",
   "metadata": {},
   "outputs": [
    {
     "data": {
      "text/plain": [
       "array([100, 200, 300])"
      ]
     },
     "execution_count": 29,
     "metadata": {},
     "output_type": "execute_result"
    }
   ],
   "source": [
    "# Basic Multiplication\n",
    "import numpy as np\n",
    "n9 = np.array([10,20,30])\n",
    "n9 = n9*10\n",
    "n9"
   ]
  },
  {
   "cell_type": "code",
   "execution_count": 30,
   "id": "fb49e697-2212-4615-91db-573d3a3644c9",
   "metadata": {},
   "outputs": [
    {
     "data": {
      "text/plain": [
       "array([ 2.,  4., 10.])"
      ]
     },
     "execution_count": 30,
     "metadata": {},
     "output_type": "execute_result"
    }
   ],
   "source": [
    "# Basic Division \n",
    "import numpy as np\n",
    "n10 = np.array([10,20,50])\n",
    "n10 = n10/5\n",
    "n10"
   ]
  },
  {
   "cell_type": "markdown",
   "id": "66e9376c-d7c8-44c4-95f3-699f57832079",
   "metadata": {},
   "source": [
    "# 9 Numpy Array Mathematical Functions"
   ]
  },
  {
   "cell_type": "code",
   "execution_count": 31,
   "id": "504a0366-4f25-4745-aa59-17b7610a8d94",
   "metadata": {},
   "outputs": [
    {
     "data": {
      "text/plain": [
       "55.2"
      ]
     },
     "execution_count": 31,
     "metadata": {},
     "output_type": "execute_result"
    }
   ],
   "source": [
    "# 9.1 Mean \n",
    "\n",
    "import numpy as np\n",
    "n11 = np.array([10,30,57,89,90])\n",
    "np.mean(n11)"
   ]
  },
  {
   "cell_type": "code",
   "execution_count": 33,
   "id": "d962f946-deb0-45dc-8fa4-385ae8c2178e",
   "metadata": {},
   "outputs": [
    {
     "data": {
      "text/plain": [
       "57.0"
      ]
     },
     "execution_count": 33,
     "metadata": {},
     "output_type": "execute_result"
    }
   ],
   "source": [
    "# 9.2 Median\n",
    "\n",
    "import numpy as np\n",
    "n12 = np.array([12,30,57,89,90])\n",
    "np.median(n12)\n"
   ]
  },
  {
   "cell_type": "code",
   "execution_count": 34,
   "id": "3ad23d2e-9849-4e2d-ac59-d332cb521e84",
   "metadata": {},
   "outputs": [
    {
     "data": {
      "text/plain": [
       "337.726871895027"
      ]
     },
     "execution_count": 34,
     "metadata": {},
     "output_type": "execute_result"
    }
   ],
   "source": [
    "# 9.3 Standard Deviation\n",
    "\n",
    "import numpy as np\n",
    "n13 = np.array([12,30,57,889,90])\n",
    "np.std(n13)"
   ]
  },
  {
   "cell_type": "markdown",
   "id": "b92091ba-ae2d-44dd-ae61-86e06f454963",
   "metadata": {},
   "source": [
    "# Numpy Matrix"
   ]
  },
  {
   "cell_type": "code",
   "execution_count": 35,
   "id": "63ea89cd-e27b-4c48-8d74-3ec9a645b500",
   "metadata": {},
   "outputs": [
    {
     "data": {
      "text/plain": [
       "array([[1, 2, 3],\n",
       "       [4, 5, 6],\n",
       "       [7, 8, 9]])"
      ]
     },
     "execution_count": 35,
     "metadata": {},
     "output_type": "execute_result"
    }
   ],
   "source": [
    "# Creating the Matrix using Numpy Array\n",
    "\n",
    "import numpy as np\n",
    "n14 = np.array([[1,2,3],[4,5,6],[7,8,9]])\n",
    "n14"
   ]
  },
  {
   "cell_type": "code",
   "execution_count": 36,
   "id": "70fea092-f68a-4713-a526-5498baa28c63",
   "metadata": {},
   "outputs": [
    {
     "data": {
      "text/plain": [
       "array([1, 2, 3])"
      ]
     },
     "execution_count": 36,
     "metadata": {},
     "output_type": "execute_result"
    }
   ],
   "source": [
    "\"\"\" @--> Access the elements from the matrix using index of the array \"\"\"\n",
    "n14[0] "
   ]
  },
  {
   "cell_type": "code",
   "execution_count": 37,
   "id": "f0d28cd7-48b5-4654-b47b-cd45e2c6d3a6",
   "metadata": {},
   "outputs": [
    {
     "data": {
      "text/plain": [
       "array([4, 5, 6])"
      ]
     },
     "execution_count": 37,
     "metadata": {},
     "output_type": "execute_result"
    }
   ],
   "source": [
    "n14[1]"
   ]
  },
  {
   "cell_type": "code",
   "execution_count": 46,
   "id": "b9dc7fce-bd8a-446e-b921-d7421b11aa49",
   "metadata": {},
   "outputs": [
    {
     "data": {
      "text/plain": [
       "array([4, 5, 6])"
      ]
     },
     "execution_count": 46,
     "metadata": {},
     "output_type": "execute_result"
    }
   ],
   "source": [
    "\"\"\" @--> Here we Aceesing the elements of Matrix by calling the index value of a Array\"\"\"\n",
    "n14[1] '--> it gives the index 1 elements in an array'"
   ]
  },
  {
   "cell_type": "code",
   "execution_count": 49,
   "id": "6c0a19a2-56bd-483e-a615-753723ececa5",
   "metadata": {},
   "outputs": [
    {
     "data": {
      "text/plain": [
       "array([[1, 2, 3],\n",
       "       [4, 5, 6],\n",
       "       [7, 8, 9]])"
      ]
     },
     "execution_count": 49,
     "metadata": {},
     "output_type": "execute_result"
    }
   ],
   "source": [
    "n14[:3] \"\"\" @--> Here [ _Starting index  : _ ending index ] we giving the range of index from start to end to get the index vales in b/w range \"\"\"\n"
   ]
  },
  {
   "cell_type": "code",
   "execution_count": 51,
   "id": "80258b6e-d740-41aa-adc1-6b2da8fc31f0",
   "metadata": {},
   "outputs": [
    {
     "data": {
      "text/plain": [
       "array([3, 6, 9])"
      ]
     },
     "execution_count": 51,
     "metadata": {},
     "output_type": "execute_result"
    }
   ],
   "source": [
    "n14[:,2] \"\"\" @--> Here , we use its indecates that supparates the rows and columns . which gives the [Row , column] of data \"\"\"\n"
   ]
  },
  {
   "cell_type": "code",
   "execution_count": 52,
   "id": "913b06e4-904c-454b-87cd-2fd41035cd43",
   "metadata": {},
   "outputs": [
    {
     "data": {
      "text/plain": [
       "array([2, 5, 8])"
      ]
     },
     "execution_count": 52,
     "metadata": {},
     "output_type": "execute_result"
    }
   ],
   "source": [
    "\"\"\" Same As \"\"\"\n",
    "n14[:,1]"
   ]
  },
  {
   "cell_type": "code",
   "execution_count": 54,
   "id": "af0ce8c7-cb9e-411e-968e-e3cc01f20a9e",
   "metadata": {},
   "outputs": [
    {
     "data": {
      "text/plain": [
       "6"
      ]
     },
     "execution_count": 54,
     "metadata": {},
     "output_type": "execute_result"
    }
   ],
   "source": [
    "\"\"\" If we want an Elemnt of paricular row of column \"\"\"\n",
    "n14[1][2] \"\"\" @--> Here the index arestarting from zero both row and column \"\"\""
   ]
  },
  {
   "cell_type": "markdown",
   "id": "69a8c2bd-1d05-4c8a-a3fe-002d22f756bb",
   "metadata": {},
   "source": [
    "# Numpy Array Transpose"
   ]
  },
  {
   "cell_type": "code",
   "execution_count": 55,
   "id": "756eda4f-02db-4d8e-a5f0-885e108a0580",
   "metadata": {},
   "outputs": [
    {
     "data": {
      "text/plain": [
       "array([[1, 2, 3],\n",
       "       [4, 5, 6],\n",
       "       [7, 8, 9]])"
      ]
     },
     "execution_count": 55,
     "metadata": {},
     "output_type": "execute_result"
    }
   ],
   "source": [
    "\"\"\" Transpose is nothing but to interchange the rows and columns \"\"\"\n",
    "\"\"\" @--> transpose() \"\"\"\n",
    "\n",
    "n14"
   ]
  },
  {
   "cell_type": "code",
   "execution_count": 56,
   "id": "10dbf418-c0b7-4e96-bb18-13824553dea3",
   "metadata": {},
   "outputs": [
    {
     "data": {
      "text/plain": [
       "array([[1, 4, 7],\n",
       "       [2, 5, 8],\n",
       "       [3, 6, 9]])"
      ]
     },
     "execution_count": 56,
     "metadata": {},
     "output_type": "execute_result"
    }
   ],
   "source": [
    "\"\"\" by the above matrix we are performing the Transpose \"\"\"\n",
    "n14.transpose()\n"
   ]
  },
  {
   "cell_type": "markdown",
   "id": "dbeabe0a-0366-471f-ac03-1209e2180202",
   "metadata": {},
   "source": [
    "# Numpy Array Multiplication "
   ]
  },
  {
   "cell_type": "code",
   "execution_count": 68,
   "id": "af8b08ab-71f2-4f6d-bcfc-1767c971a2f8",
   "metadata": {},
   "outputs": [
    {
     "name": "stdout",
     "output_type": "stream",
     "text": [
      " Matrix a \n"
     ]
    },
    {
     "data": {
      "text/plain": [
       "array([[1, 2, 3],\n",
       "       [4, 5, 6],\n",
       "       [7, 8, 9]])"
      ]
     },
     "execution_count": 68,
     "metadata": {},
     "output_type": "execute_result"
    }
   ],
   "source": [
    "\"\"\" @--> Creating a Two Matrix \"\"\"\n",
    "import numpy as np\n",
    "\n",
    "a = np.array([[1,2,3],[4,5,6],[7,8,9]])\n",
    "b = np.array([[9,8,7],[6,5,4],[3,2,1]])\n",
    "\n",
    "print(\" Matrix a \")\n",
    "a"
   ]
  },
  {
   "cell_type": "code",
   "execution_count": 67,
   "id": "9c83c53c-a10e-42ef-9239-35a84a7c9e1f",
   "metadata": {},
   "outputs": [
    {
     "name": "stdout",
     "output_type": "stream",
     "text": [
      " Matrix b \n"
     ]
    },
    {
     "data": {
      "text/plain": [
       "array([[9, 8, 7],\n",
       "       [6, 5, 4],\n",
       "       [3, 2, 1]])"
      ]
     },
     "execution_count": 67,
     "metadata": {},
     "output_type": "execute_result"
    }
   ],
   "source": [
    "print(\" Matrix b \")\n",
    "b"
   ]
  },
  {
   "cell_type": "code",
   "execution_count": 69,
   "id": "30e0e8c6-bde1-4d8d-9795-c123cb8710f0",
   "metadata": {},
   "outputs": [
    {
     "name": "stdout",
     "output_type": "stream",
     "text": [
      " a + b Matrix \n"
     ]
    },
    {
     "data": {
      "text/plain": [
       "array([[ 30,  24,  18],\n",
       "       [ 84,  69,  54],\n",
       "       [138, 114,  90]])"
      ]
     },
     "execution_count": 69,
     "metadata": {},
     "output_type": "execute_result"
    }
   ],
   "source": [
    "\"\"\" For a X b Matrix \"\"\"\n",
    "print(\" a X b Matrix \")\n",
    "a.dot(b)\n"
   ]
  },
  {
   "cell_type": "code",
   "execution_count": 70,
   "id": "6834f50e-6872-42c6-857b-2b39782928fb",
   "metadata": {},
   "outputs": [
    {
     "name": "stdout",
     "output_type": "stream",
     "text": [
      " b + a \n"
     ]
    },
    {
     "data": {
      "text/plain": [
       "array([[ 90, 114, 138],\n",
       "       [ 54,  69,  84],\n",
       "       [ 18,  24,  30]])"
      ]
     },
     "execution_count": 70,
     "metadata": {},
     "output_type": "execute_result"
    }
   ],
   "source": [
    "\"\"\" For b X a Matrix \"\"\"\n",
    "print(\" b X a \")\n",
    "b.dot(a)"
   ]
  },
  {
   "cell_type": "markdown",
   "id": "0fcdf6fd-aedd-403b-970c-28e144a7f1af",
   "metadata": {},
   "source": [
    "# Numpy Array Save And Load"
   ]
  },
  {
   "cell_type": "code",
   "execution_count": 1,
   "id": "94ee0e26-2835-4b2b-8efc-6db42864e440",
   "metadata": {},
   "outputs": [],
   "source": [
    "# Save \n",
    "import numpy as np\n",
    "\n",
    "n1 =np.array([[1,2,3],[4,5,6],[7,8,9]])\n",
    "np.save('NumpyArray_SaveFile',n1) # @--> here we are Saving the array data in the file by giving the  np.save(filename , array)"
   ]
  },
  {
   "cell_type": "code",
   "execution_count": 2,
   "id": "13c86d02-7d50-4c52-9511-563e71a1e28a",
   "metadata": {},
   "outputs": [
    {
     "data": {
      "text/plain": [
       "array([[1, 2, 3],\n",
       "       [4, 5, 6],\n",
       "       [7, 8, 9]])"
      ]
     },
     "execution_count": 2,
     "metadata": {},
     "output_type": "execute_result"
    }
   ],
   "source": [
    "#load \n",
    "import numpy as np\n",
    "\n",
    "n2 = np.load('NumpyArray_SaveFile.npy')\n",
    "n2"
   ]
  },
  {
   "cell_type": "code",
   "execution_count": null,
   "id": "d0ca064c-1b52-49b7-8e31-569f81993172",
   "metadata": {},
   "outputs": [],
   "source": []
  }
 ],
 "metadata": {
  "kernelspec": {
   "display_name": "Python 3 (ipykernel)",
   "language": "python",
   "name": "python3"
  },
  "language_info": {
   "codemirror_mode": {
    "name": "ipython",
    "version": 3
   },
   "file_extension": ".py",
   "mimetype": "text/x-python",
   "name": "python",
   "nbconvert_exporter": "python",
   "pygments_lexer": "ipython3",
   "version": "3.11.3"
  }
 },
 "nbformat": 4,
 "nbformat_minor": 5
}
